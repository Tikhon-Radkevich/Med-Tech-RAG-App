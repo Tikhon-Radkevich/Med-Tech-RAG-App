{
 "cells": [
  {
   "cell_type": "code",
   "execution_count": 2,
   "id": "initial_id",
   "metadata": {
    "ExecuteTime": {
     "end_time": "2025-04-04T06:30:18.968206Z",
     "start_time": "2025-04-04T06:30:17.845181Z"
    },
    "collapsed": true
   },
   "outputs": [],
   "source": [
    "import json\n",
    "from dotenv import load_dotenv\n",
    "from pydantic import BaseModel, Field\n",
    "from typing import Any\n",
    "\n",
    "from langchain_chroma import Chroma\n",
    "from langchain_huggingface import HuggingFaceEmbeddings\n",
    "from langchain.chat_models import init_chat_model\n",
    "\n",
    "from ragapp.rag.med_agent_graph import MedTechAgent, DeviceEnum\n",
    "from constants import (\n",
    "    TOGETHER_META_LLAMA_70B_FREE,\n",
    "    GROUND_TRUTH_ACTUAL_JSON,\n",
    "    EMBEDDINGS_MODEL_NAME,\n",
    "    INDEX_CACHE_DIR,\n",
    ")"
   ]
  },
  {
   "cell_type": "code",
   "execution_count": 3,
   "id": "608b42abc74be5c1",
   "metadata": {
    "ExecuteTime": {
     "end_time": "2025-04-04T06:30:18.984758Z",
     "start_time": "2025-04-04T06:30:18.977873Z"
    }
   },
   "outputs": [
    {
     "data": {
      "text/plain": [
       "True"
      ]
     },
     "execution_count": 3,
     "metadata": {},
     "output_type": "execute_result"
    }
   ],
   "source": [
    "load_dotenv()"
   ]
  },
  {
   "cell_type": "code",
   "execution_count": 4,
   "id": "9bce1ac62db369f5",
   "metadata": {
    "ExecuteTime": {
     "end_time": "2025-04-04T06:30:19.096281Z",
     "start_time": "2025-04-04T06:30:19.090263Z"
    }
   },
   "outputs": [],
   "source": [
    "with open(GROUND_TRUTH_ACTUAL_JSON, \"r\", encoding=\"utf-8\") as file:\n",
    "    ground_truth_actual_data = json.load(file)"
   ]
  },
  {
   "cell_type": "code",
   "execution_count": 5,
   "id": "8177da582e3f74ca",
   "metadata": {
    "ExecuteTime": {
     "end_time": "2025-04-04T06:30:28.023305Z",
     "start_time": "2025-04-04T06:30:19.186593Z"
    }
   },
   "outputs": [],
   "source": [
    "embeddings = HuggingFaceEmbeddings(model_name=EMBEDDINGS_MODEL_NAME)\n",
    "vector_store = Chroma(\n",
    "    collection_name=\"LIFEPAK_index\",\n",
    "    embedding_function=embeddings,\n",
    "    persist_directory=INDEX_CACHE_DIR,\n",
    ")"
   ]
  },
  {
   "cell_type": "code",
   "execution_count": 11,
   "id": "83039a04f710fb42",
   "metadata": {
    "ExecuteTime": {
     "end_time": "2025-04-04T06:31:26.019959Z",
     "start_time": "2025-04-04T06:31:26.012958Z"
    }
   },
   "outputs": [],
   "source": [
    "def explore_sample(sample, device=None, search_pattern: str = None):\n",
    "    print(\"Question:\", sample[\"question\"], \"\\n\\n\")\n",
    "    print(\"Ground Truth:\\n\", sample[\"ground_truth\"], \"\\n\\n\\n\")\n",
    "\n",
    "    get_res = vector_store.get(\n",
    "        where_document={\"$contains\": search_pattern}, where={\"device\": device}\n",
    "    )\n",
    "\n",
    "    n_docs = len(get_res[\"ids\"])\n",
    "    print(\"#\" * 20, f\"DOCUMENTS FOUND ({n_docs})\", \"#\" * 20)\n",
    "    print(f\"\\t search pattern: '{search_pattern}'\")\n",
    "    print(\"\\t device filter:\", device)\n",
    "    for i, doc in enumerate(get_res[\"documents\"], start=1):\n",
    "        print(\"#\" * 20, f\"Doc {i}\", \"#\" * 20)\n",
    "        print(doc)\n",
    "\n",
    "    print(\"#\" * 20, \"END DOCUMENTS:\", \"#\" * 20)\n",
    "\n",
    "    start_point = sample[\"ground_truth\"].rfind(search_pattern)\n",
    "\n",
    "    print(\"\\n\\n\\nSEARCH PATTERN EDGES IN GROUND TRUTH:\")\n",
    "    print(f\"\\t Pattern edges: {start_point}:{start_point + len(search_pattern)}\")\n",
    "    print(\"\\nDOCS: [ pdf title | page ]\")\n",
    "    for i, doc_metadata in enumerate(get_res[\"metadatas\"], start=1):\n",
    "        print(\"\\t\", doc_metadata[\"pdf_title\"], \"|\", doc_metadata[\"page\"])"
   ]
  },
  {
   "cell_type": "code",
   "execution_count": 13,
   "id": "a39a2d3f979658d6",
   "metadata": {
    "ExecuteTime": {
     "end_time": "2025-04-04T06:31:51.745363Z",
     "start_time": "2025-04-04T06:31:51.734518Z"
    }
   },
   "outputs": [
    {
     "name": "stdout",
     "output_type": "stream",
     "text": [
      "Question: How do I troubleshoot low volume on Lifepak 20? \n",
      "\n",
      "\n",
      "Ground Truth:\n",
      " Possible Cause and Corrective Action \n",
      "A Possible cause of low speaker volume is moisture in speaker grill holes. To resolve, wipe moisture from speaker grill and allow device to dry. \n",
      "\n",
      "\n",
      "\n",
      "#################### DOCUMENTS FOUND (2) ####################\n",
      "\t search pattern: 'speaker grill holes'\n",
      "\t device filter: DeviceEnum.lifepak_20\n",
      "#################### Doc 1 ####################\n",
      "Maintaining the Equipment\n",
      "GENERAL TROUBLESHOOTING TIPS\n",
      "If a problem with the defibrillator/monitor is detected during operation or testing, refer to the\n",
      "troubleshooting tips in Table7-2. If the problem cannot be corrected, remove the defibrillator/monitor\n",
      "from use and contact qualified service personnel.\n",
      "Table7-2 General Troubleshooting Tips\n",
      "Observation Possible Cause Corrective Action\n",
      "1 No power when Low battery voltage. (cid:129) Connect to AC power.\n",
      "defibrillator/monitor is\n",
      "turned ON.\n",
      "2 Defibrillator/monitor Operating temperature is too (cid:129) Connect to AC power.\n",
      "operates, but screen is low or too high.\n",
      "blank. Screen is not displaying (cid:129) Contact qualified service personnel.\n",
      "properly.\n",
      "3 CHECK PRINTER Printer paper jams, slips, or (cid:129) Reinstall paper.\n",
      "message appears. misfeeds.\n",
      "Printer is out of paper. (cid:129) Add new paper.\n",
      "(cid:129) If problem persists, contact qualified\n",
      "service personnel.\n",
      "4 No power when connected Loose or improper connection (cid:129) Check power connections and cables.\n",
      "to AC power. between defibrillator and\n",
      "power source.\n",
      "5 Service LED illuminates. Device self-test circuitry (cid:129) Continue to use defibrillator or\n",
      "detects service condition. pacemaker if needed.\n",
      "(cid:129) Turn device off then on again. Note that\n",
      "this creates a new Patient Record.\n",
      "(cid:129) If service LED does not clear, remove\n",
      "device from active use.\n",
      "(cid:129) Report occurrence of service LED to\n",
      "qualified service personnel.\n",
      "6 ECG monitoring problems. (cid:129) Refer to Section3, page3-5.\n",
      "7 Problems with AED (cid:129) Refer to Section4, page4-6.\n",
      "operation.\n",
      "8 Problems with (cid:129) Refer to Section4, page4-20.\n",
      "defibrillation/\n",
      "synchronized\n",
      "cardioversion.\n",
      "9 Problems with pacing. (cid:129) Refer to Section4, page4-22.\n",
      "10 Displayed time is Time is incorrectly set. (cid:129) Change the time setting. Refer to\n",
      "incorrect. Section2, page2-7.\n",
      "11 Date printed on report is Date is incorrectly set. (cid:129) Change the date setting. Refer to\n",
      "incorrect. Section2, page2-7.\n",
      "12 Displayed messages are Low battery power. (cid:129) Connect to AC power immediately.\n",
      "faint or flicker. Out of temperature range.\n",
      "13 Low speaker volume. Moisture in speaker grill holes. (cid:129) Wipe moisture from speaker grill and\n",
      "allow device to dry.\n",
      "7-10 LIFEPAK 20 Defibrillator/Monitor Operating Instructions\n",
      "\n",
      "#################### Doc 2 ####################\n",
      "Maintaining the Equipment\n",
      "GENERAL TROUBLESHOOTING TIPS\n",
      "If a problem with the defibrillator/monitor is detected during operation or testing, refer to the\n",
      "troubleshooting tips in Table7-2. If the problem cannot be corrected, remove the defibrillator/monitor\n",
      "from use and contact qualified service personnel.\n",
      "Table7-2 General Troubleshooting Tips\n",
      "Observation Possible Cause Corrective Action\n",
      "1 No power when Low battery voltage. (cid:129) Connect to AC power.\n",
      "defibrillator/monitor is\n",
      "turned ON.\n",
      "2 Defibrillator/monitor Operating temperature is too (cid:129) Connect to AC power.\n",
      "operates, but screen is low or too high.\n",
      "blank. Screen is not displaying (cid:129) Contact qualified service personnel.\n",
      "properly.\n",
      "3 CHECK PRINTER Printer paper jams, slips, or (cid:129) Reinstall paper.\n",
      "message appears. misfeeds.\n",
      "Printer is out of paper. (cid:129) Add new paper.\n",
      "(cid:129) If problem persists, contact qualified\n",
      "service personnel.\n",
      "4 AC Mains LED on Loose or improper connection (cid:129) Check power connections and cables.\n",
      "defibrillator/monitor not between defibrillator and\n",
      "illuminated when power source.\n",
      "connected to AC power.\n",
      "Loose or improper connection (cid:129) Contact qualified service personnel.\n",
      "between defibrillator and\n",
      "CodeManagement Module.\n",
      "5 Service LED illuminates. Device self-test circuitry (cid:129) Continue to use defibrillator or\n",
      "detects service condition. pacemaker if needed.\n",
      "(cid:129) Turn device off then on again. Note that\n",
      "this creates a new Patient Record.\n",
      "(cid:129) If service LED does not clear, remove\n",
      "device from active use.\n",
      "(cid:129) Report occurrence of service LED to\n",
      "qualified service personnel.\n",
      "6 ECG monitoring problems. (cid:129) Refer to Section3, page3-5.\n",
      "7 Problems with AED (cid:129) Refer to Section4, page4-6.\n",
      "operation.\n",
      "8 Problems with (cid:129) Refer to Section4, page4-21.\n",
      "defibrillation/\n",
      "synchronized\n",
      "cardioversion.\n",
      "9 Problems with pacing. (cid:129) Refer to Section4, page4-24.\n",
      "10 Displayed time is Time is incorrectly set. (cid:129) Change the time setting. Refer to\n",
      "incorrect. Section2, page2-7.\n",
      "11 Date printed on report is Date is incorrectly set. (cid:129) Change the date setting. Refer to\n",
      "incorrect. Section2, page2-7.\n",
      "12 Displayed messages are Low battery power. (cid:129) Connect to AC power immediately.\n",
      "faint or flicker. Out of temperature range.\n",
      "13 Low speaker volume. Moisture in speaker grill holes. (cid:129) Wipe moisture from speaker grill and\n",
      "allow device to dry.\n",
      "7-10 LIFEPAK 20 Defibrillator/Monitor Operating Instructions\n",
      "\n",
      "#################### END DOCUMENTS: ####################\n",
      "\n",
      "\n",
      "\n",
      "SEARCH PATTERN EDGES IN GROUND TRUTH:\n",
      "\t Pattern edges: 92:111\n",
      "\n",
      "DOCS: [ pdf title | page ]\n",
      "\t Stryker_Physio_Control_Lifepak_20_Defibrillator_Monitor_3200750_039_201404_eq00.pdf | 110\n",
      "\t Stryker_Physio_Control_Lifepak_20_Defibrillator_Monitor_3313180_008_201508.pdf | 123\n"
     ]
    }
   ],
   "source": [
    "# eval_ids = [0, 1, 10, 11, 8]\n",
    "\n",
    "explore_sample(\n",
    "    ground_truth_actual_data[10],\n",
    "    device=DeviceEnum.lifepak_20,\n",
    "    search_pattern=\"speaker grill holes\",\n",
    ")"
   ]
  },
  {
   "cell_type": "code",
   "execution_count": 92,
   "id": "5e4caeefb2ed256c",
   "metadata": {
    "ExecuteTime": {
     "end_time": "2025-04-03T07:50:34.571144Z",
     "start_time": "2025-04-03T07:50:34.563747Z"
    }
   },
   "outputs": [],
   "source": [
    "test = [\n",
    "    {\n",
    "        \"question\": ground_truth_actual_data[0][\"question\"],\n",
    "        \"ground_truth\": ground_truth_actual_data[0][\"ground_truth\"],\n",
    "        \"search_pattern\": ground_truth_actual_data[0][\"ground_truth\"][26:118],\n",
    "        \"device\": DeviceEnum.lifepak_15,\n",
    "        \"docs\": [\n",
    "            {\n",
    "                \"pdf_title\": \"Stryker_Physio_Control_LIFEPAK_15_Monitor_Defibrillator_3314911_036_202105.pdf\",\n",
    "                \"pages\": [37],\n",
    "            }\n",
    "        ],\n",
    "    },\n",
    "    {\n",
    "        \"question\": ground_truth_actual_data[1][\"question\"],\n",
    "        \"ground_truth\": ground_truth_actual_data[1][\"ground_truth\"],\n",
    "        \"search_pattern\": ground_truth_actual_data[1][\"ground_truth\"][34:57],\n",
    "        \"device\": DeviceEnum.lifepak_15,\n",
    "        \"docs\": [\n",
    "            {\n",
    "                \"pdf_title\": \"Stryker_Physio_Control_LIFEPAK_15_Monitor_Defibrillator_3314911_036_202105.pdf\",\n",
    "                \"pages\": [90],\n",
    "            }\n",
    "        ],\n",
    "    },\n",
    "    {\n",
    "        \"question\": ground_truth_actual_data[10][\"question\"],\n",
    "        \"ground_truth\": ground_truth_actual_data[10][\"ground_truth\"],\n",
    "        \"search_pattern\": ground_truth_actual_data[10][\"ground_truth\"][89:111],\n",
    "        \"device\": DeviceEnum.lifepak_20,\n",
    "        \"docs\": [\n",
    "            {\n",
    "                \"pdf_title\": \"Stryker_Physio_Control_Lifepak_20_Defibrillator_Monitor_3200750_039_201404_eq00.pdf\",\n",
    "                \"pages\": [110],\n",
    "            },\n",
    "            {\n",
    "                \"pdf_title\": \"Stryker_Physio_Control_Lifepak_20_Defibrillator_Monitor_3313180_008_201508.pdf\",\n",
    "                \"pages\": [123],\n",
    "            },\n",
    "        ],\n",
    "    },\n",
    "    {\n",
    "        \"question\": ground_truth_actual_data[11][\"question\"],\n",
    "        \"ground_truth\": ground_truth_actual_data[11][\"ground_truth\"],\n",
    "        \"search_pattern\": ground_truth_actual_data[11][\"ground_truth\"][239:267],\n",
    "        \"device\": DeviceEnum.lifepak_20,\n",
    "        \"docs\": [\n",
    "            {\n",
    "                \"pdf_title\": \"Stryker_Physio_Control_Lifepak_20_Defibrillator_Monitor_3200750_039_201404_eq00.pdf\",\n",
    "                \"pages\": [65],\n",
    "            },\n",
    "            {\n",
    "                \"pdf_title\": \"Stryker_Physio_Control_Lifepak_20_Defibrillator_Monitor_3313180_008_201508.pdf\",\n",
    "                \"pages\": [74],\n",
    "            },\n",
    "        ],\n",
    "    },\n",
    "]"
   ]
  },
  {
   "cell_type": "code",
   "execution_count": 106,
   "id": "d72e51a65ab3c23c",
   "metadata": {
    "ExecuteTime": {
     "end_time": "2025-04-03T07:59:03.788691Z",
     "start_time": "2025-04-03T07:59:03.723640Z"
    }
   },
   "outputs": [],
   "source": [
    "for t in test:\n",
    "    for d in t[\"docs\"]:\n",
    "        for page in d[\"pages\"]:\n",
    "            where_filter = {\n",
    "                \"$and\": [\n",
    "                    {\"device\": t[\"device\"].value},\n",
    "                    {\"pdf_title\": d[\"pdf_title\"]},\n",
    "                    {\"page\": page},\n",
    "                ]\n",
    "            }\n",
    "            res = vector_store.get(\n",
    "                where_document={\"$contains\": t[\"search_pattern\"]},\n",
    "                where=where_filter,\n",
    "            )\n",
    "            assert len(res[\"ids\"]) == 1"
   ]
  },
  {
   "cell_type": "code",
   "execution_count": 8,
   "id": "b21453951164b6dc",
   "metadata": {
    "ExecuteTime": {
     "end_time": "2025-04-03T06:57:45.434982Z",
     "start_time": "2025-04-03T06:57:44.690474Z"
    }
   },
   "outputs": [],
   "source": [
    "chat_mode_name = TOGETHER_META_LLAMA_70B_FREE\n",
    "\n",
    "graph_agent = MedTechAgent(\n",
    "    vector_store=vector_store,\n",
    "    rag_model_name=chat_mode_name,\n",
    "    device_model_name=chat_mode_name,\n",
    ")"
   ]
  },
  {
   "cell_type": "code",
   "execution_count": 9,
   "id": "4abb3d25ede4158",
   "metadata": {
    "ExecuteTime": {
     "end_time": "2025-04-03T06:57:45.937801Z",
     "start_time": "2025-04-03T06:57:45.443440Z"
    }
   },
   "outputs": [],
   "source": [
    "from trulens.core import TruSession, Select, Feedback, Provider\n",
    "from trulens.core.instruments import instrument\n",
    "from trulens.apps.app import TruApp\n",
    "\n",
    "from trulens.dashboard.run import run_dashboard"
   ]
  },
  {
   "cell_type": "code",
   "execution_count": 176,
   "id": "f0e044b1f1417ebe",
   "metadata": {
    "ExecuteTime": {
     "end_time": "2025-04-03T09:51:50.645710Z",
     "start_time": "2025-04-03T09:51:50.556743Z"
    }
   },
   "outputs": [
    {
     "name": "stderr",
     "output_type": "stream",
     "text": [
      "Updating app_name and app_version in apps table: 0it [00:00, ?it/s]\n",
      "Updating app_id in records table: 0it [00:00, ?it/s]\n",
      "Updating app_json in apps table: 0it [00:00, ?it/s]\n"
     ]
    }
   ],
   "source": [
    "session = TruSession()\n",
    "session.reset_database()"
   ]
  },
  {
   "cell_type": "code",
   "execution_count": 177,
   "id": "28ae624bcb054688",
   "metadata": {
    "ExecuteTime": {
     "end_time": "2025-04-03T09:51:54.964600Z",
     "start_time": "2025-04-03T09:51:54.959262Z"
    }
   },
   "outputs": [],
   "source": [
    "instrument.method(MedTechAgent, \"run\")"
   ]
  },
  {
   "cell_type": "code",
   "execution_count": 178,
   "id": "b227be44946311d",
   "metadata": {
    "ExecuteTime": {
     "end_time": "2025-04-03T09:51:57.606536Z",
     "start_time": "2025-04-03T09:51:57.597486Z"
    }
   },
   "outputs": [],
   "source": [
    "system_prompt_answer_relevance = \"\"\"\n",
    "You are an expert evaluator for medical device technical documentation. Your task is to assess the accuracy and completeness of an AI-generated response compared to the provided ground truth answer. You will assign a score from 0 to 3 based on the given criteria.\n",
    "\n",
    "### **Input Variables:**\n",
    "- **Question**: The user's query asking about a medical device's technical details or instructions.\n",
    "- **Ground Truth Answer**: The expected correct response, usually a structured set of instructions with bullet points or numbered steps.\n",
    "- **Answer**: The AI-generated response that needs to be evaluated.\n",
    "\n",
    "### **Scoring Criteria:**\n",
    "- **0 (Incorrect Answer)**: The **Answer** is mostly or entirely incorrect. It may be unrelated to the **Question**, reference the wrong instructions, or address a different process.\n",
    "- **1 (Partially Correct)**: The **Answer** contains some correct points but is incomplete or includes incorrect elements. It may also be **completely unstructured**, making it difficult to follow.\n",
    "- **2 (Mostly Correct but Unstructured)**: The **Answer** is factually correct and includes all required points from the **Ground Truth Answer**, but it is not formatted properly (e.g., lacks bullet points, numbering, or section headers).\n",
    "- **3 (Fully Correct and Well-Structured)**: The **Answer** is entirely correct, contains all required points, and follows the same structured format as the **Ground Truth Answer** (e.g., numbered steps, bullet points, section headers).\n",
    "\n",
    "### **Evaluation Steps:**\n",
    "1. Compare the **content accuracy** of the **Answer** to the **Ground Truth Answer**.\n",
    "2. Check whether all key points from the **Ground Truth Answer** are included in the **Answer**.\n",
    "3. Assess the **structure and formatting** (e.g., bullet points, numbered lists, sections).\n",
    "4. Assign a score from 0 to 3 based on the above criteria.\n",
    "\n",
    "### **Output Format:**\n",
    "Provide your evaluation as follows:\n",
    "- **Score:** [0-3]\n",
    "\"\"\"\n",
    "# - **Reasoning:** Explain why you assigned this score, highlighting missing, incorrect, or unstructured elements.\n",
    "\n",
    "user_prompt_answer_relevance = \"\"\"\n",
    "Question: {question}\n",
    "\n",
    "Ground Truth Answer: {ground_truth_answer}\n",
    "\n",
    "\n",
    "Answer: {answer}\n",
    "\"\"\"\n",
    "\n",
    "\n",
    "class StandAlone(Provider):\n",
    "    class AnswerRelevanceSchema(BaseModel):\n",
    "        score: float = Field(default=None, description=\"The metric score of answer.\")\n",
    "\n",
    "    answer_relevance_llm: Any = Field(\n",
    "        default=None, description=\"The answer relevance LLM.\"\n",
    "    )\n",
    "\n",
    "    def __init__(self, answer_relevance_llm):\n",
    "        super().__init__()\n",
    "        self.answer_relevance_llm = answer_relevance_llm\n",
    "\n",
    "    @staticmethod\n",
    "    def context_provided(response: dict) -> float:\n",
    "        docs_metadata_provided = [\n",
    "            doc[\"metadata\"] for doc in response[\"context_documents\"]\n",
    "        ]\n",
    "        docs_device_title_page = set(\n",
    "            [\n",
    "                (doc[\"device\"], doc[\"pdf_title\"], doc[\"page\"])\n",
    "                for doc in docs_metadata_provided\n",
    "            ]\n",
    "        )\n",
    "\n",
    "        state_kwargs = response[\"state_kwargs\"]\n",
    "        actual_device_title_page = set()\n",
    "        for doc in state_kwargs[\"docs\"]:\n",
    "            for p in doc[\"pages\"]:\n",
    "                device_title_page = (state_kwargs[\"device\"], doc[\"pdf_title\"], p)\n",
    "                actual_device_title_page.add(device_title_page)\n",
    "\n",
    "        doc_contains = any(\n",
    "            [data in actual_device_title_page for data in docs_device_title_page]\n",
    "        )\n",
    "        return doc_contains\n",
    "\n",
    "    def answer_relevance(self, response: dict) -> float:\n",
    "        user_prompt_formatted = user_prompt_answer_relevance.format(\n",
    "            question=response[\"question\"],\n",
    "            ground_truth_answer=response[\"state_kwargs\"][\"ground_truth\"],\n",
    "            answer=response[\"retrieval_result\"][\"answer\"],\n",
    "        )\n",
    "\n",
    "        llm_inputs = [\n",
    "            {\"role\": \"system\", \"content\": system_prompt_answer_relevance},\n",
    "            {\"role\": \"user\", \"content\": user_prompt_formatted},\n",
    "        ]\n",
    "\n",
    "        score = self.answer_relevance_llm.invoke(llm_inputs).score\n",
    "        return score / 3"
   ]
  },
  {
   "cell_type": "code",
   "execution_count": 179,
   "id": "5977501f49e1f97a",
   "metadata": {
    "ExecuteTime": {
     "end_time": "2025-04-03T09:51:58.712839Z",
     "start_time": "2025-04-03T09:51:58.611214Z"
    }
   },
   "outputs": [],
   "source": [
    "eval_llm = init_chat_model(model=TOGETHER_META_LLAMA_70B_FREE, temperature=0.0)\n",
    "eval_llm_structured = eval_llm.with_structured_output(StandAlone.AnswerRelevanceSchema)"
   ]
  },
  {
   "cell_type": "code",
   "execution_count": 185,
   "id": "6753a2fa8e79cec6",
   "metadata": {
    "ExecuteTime": {
     "end_time": "2025-04-03T10:09:29.454420Z",
     "start_time": "2025-04-03T10:09:29.447880Z"
    }
   },
   "outputs": [],
   "source": [
    "# user_prompt_formatted = user_prompt_answer_relevance.format(\n",
    "#     question=test[0][\"question\"],\n",
    "#     ground_truth_answer=test[0][\"ground_truth\"],\n",
    "#     answer=\"To replace the battery on the Lifepak 15, first confirm that the new battery is fully charged. Then, inspect the battery pins and contacts in the battery wells for signs of damage. Next, align the new battery so the battery clip is over the pins in the battery well, insert the end of the battery opposite the clip into the well, and press the clip end into the well until it clicks into place. It is recommended to replace batteries approximately every two years or when they show signs of damage or reduced capacity.\"\n",
    "# )\n",
    "#\n",
    "#\n",
    "# llm_inputs = [\n",
    "#     {\"role\": \"system\", \"content\": system_prompt_answer_relevance},\n",
    "#     {\"role\": \"user\", \"content\": user_prompt_formatted},\n",
    "# ]\n",
    "\n",
    "# res = eval_llm_structured.invoke(llm_inputs)\n",
    "# res"
   ]
  },
  {
   "cell_type": "code",
   "execution_count": 181,
   "id": "e7f28bbfff897b5a",
   "metadata": {
    "ExecuteTime": {
     "end_time": "2025-04-03T09:52:00.877153Z",
     "start_time": "2025-04-03T09:52:00.852723Z"
    }
   },
   "outputs": [
    {
     "name": "stdout",
     "output_type": "stream",
     "text": [
      "✅ In Context Relevance, input response will be set to __record__.app.run.rets .\n",
      "✅ In Answer Relevance, input response will be set to __record__.app.run.rets .\n"
     ]
    }
   ],
   "source": [
    "standalone = StandAlone(eval_llm_structured)\n",
    "\n",
    "f_context_relevance = Feedback(\n",
    "    standalone.context_provided, name=\"Context Relevance\"\n",
    ").on(Select.RecordCalls.run.rets)\n",
    "\n",
    "f_answer_relevance = Feedback(standalone.answer_relevance, name=\"Answer Relevance\").on(\n",
    "    Select.RecordCalls.run.rets\n",
    ")"
   ]
  },
  {
   "cell_type": "code",
   "execution_count": 182,
   "id": "6399ba68d09a0ed0",
   "metadata": {
    "ExecuteTime": {
     "end_time": "2025-04-03T09:54:50.591171Z",
     "start_time": "2025-04-03T09:52:02.314209Z"
    }
   },
   "outputs": [
    {
     "name": "stdout",
     "output_type": "stream",
     "text": [
      "instrumenting <class 'ragapp.rag.med_agent_graph.MedTechAgent'> for base <class 'ragapp.rag.med_agent_graph.MedTechAgent'>\n",
      "\tinstrumenting run\n",
      "\tinstrumenting run\n",
      "\tinstrumenting run\n"
     ]
    }
   ],
   "source": [
    "import time\n",
    "\n",
    "recorder_kwargs = {\n",
    "    \"app_name\": \"RAG App\",\n",
    "    \"app_version\": \"0.1.0\",\n",
    "    \"feedbacks\": [f_context_relevance, f_answer_relevance],\n",
    "}\n",
    "\n",
    "tru_recorder = TruApp(graph_agent, **recorder_kwargs)\n",
    "inputs = {\"question\": \"How do I replace the battery on the Lifepak20\", \"k\": 3}\n",
    "\n",
    "for t in test:\n",
    "    start = time.time()\n",
    "    inputs = {\n",
    "        \"question\": t[\"question\"],\n",
    "        \"k\": 3,\n",
    "        \"ground_truth\": t[\"ground_truth\"],\n",
    "        \"device\": t[\"device\"],\n",
    "        \"docs\": t[\"docs\"],\n",
    "    }\n",
    "    with tru_recorder as recording:\n",
    "        res = graph_agent.run(**inputs)\n",
    "\n",
    "    time_work = time.time() - start\n",
    "    time_sleep = 30 - time_work\n",
    "    if time_sleep > 0:\n",
    "        time.sleep(time_sleep)"
   ]
  },
  {
   "cell_type": "code",
   "execution_count": 184,
   "id": "a2380e1bcd6d0485",
   "metadata": {
    "ExecuteTime": {
     "end_time": "2025-04-03T09:55:12.704995Z",
     "start_time": "2025-04-03T09:55:12.678173Z"
    }
   },
   "outputs": [
    {
     "data": {
      "text/html": [
       "<div>\n",
       "<style scoped>\n",
       "    .dataframe tbody tr th:only-of-type {\n",
       "        vertical-align: middle;\n",
       "    }\n",
       "\n",
       "    .dataframe tbody tr th {\n",
       "        vertical-align: top;\n",
       "    }\n",
       "\n",
       "    .dataframe thead th {\n",
       "        text-align: right;\n",
       "    }\n",
       "</style>\n",
       "<table border=\"1\" class=\"dataframe\">\n",
       "  <thead>\n",
       "    <tr style=\"text-align: right;\">\n",
       "      <th></th>\n",
       "      <th></th>\n",
       "      <th>Answer Relevance</th>\n",
       "      <th>Context Relevance</th>\n",
       "      <th>latency</th>\n",
       "      <th>total_cost</th>\n",
       "    </tr>\n",
       "    <tr>\n",
       "      <th>app_name</th>\n",
       "      <th>app_version</th>\n",
       "      <th></th>\n",
       "      <th></th>\n",
       "      <th></th>\n",
       "      <th></th>\n",
       "    </tr>\n",
       "  </thead>\n",
       "  <tbody>\n",
       "    <tr>\n",
       "      <th>RAG App</th>\n",
       "      <th>0.1.0</th>\n",
       "      <td>0.583333</td>\n",
       "      <td>0.5</td>\n",
       "      <td>11.992667</td>\n",
       "      <td>0.0</td>\n",
       "    </tr>\n",
       "  </tbody>\n",
       "</table>\n",
       "</div>"
      ],
      "text/plain": [
       "                      Answer Relevance  Context Relevance    latency  \\\n",
       "app_name app_version                                                   \n",
       "RAG App  0.1.0                0.583333                0.5  11.992667   \n",
       "\n",
       "                      total_cost  \n",
       "app_name app_version              \n",
       "RAG App  0.1.0               0.0  "
      ]
     },
     "execution_count": 184,
     "metadata": {},
     "output_type": "execute_result"
    }
   ],
   "source": [
    "session.get_leaderboard()"
   ]
  },
  {
   "cell_type": "code",
   "execution_count": null,
   "id": "be3f93068274be27",
   "metadata": {},
   "outputs": [],
   "source": []
  }
 ],
 "metadata": {
  "kernelspec": {
   "display_name": "Python 3",
   "language": "python",
   "name": "python3"
  },
  "language_info": {
   "codemirror_mode": {
    "name": "ipython",
    "version": 2
   },
   "file_extension": ".py",
   "mimetype": "text/x-python",
   "name": "python",
   "nbconvert_exporter": "python",
   "pygments_lexer": "ipython2",
   "version": "2.7.6"
  }
 },
 "nbformat": 4,
 "nbformat_minor": 5
}
