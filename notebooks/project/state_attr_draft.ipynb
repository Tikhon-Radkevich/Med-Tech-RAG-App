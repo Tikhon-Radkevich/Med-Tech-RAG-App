{
 "cells": [
  {
   "metadata": {
    "ExecuteTime": {
     "end_time": "2025-04-21T10:34:19.545259Z",
     "start_time": "2025-04-21T10:34:19.539279Z"
    }
   },
   "cell_type": "code",
   "source": [
    "from typing import Optional, Any\n",
    "from pydantic import BaseModel, Field\n",
    "from enum import Enum"
   ],
   "id": "5ff5b6a61402f4c6",
   "outputs": [],
   "execution_count": 20
  },
  {
   "metadata": {
    "ExecuteTime": {
     "end_time": "2025-04-21T10:34:19.759091Z",
     "start_time": "2025-04-21T10:34:19.748945Z"
    }
   },
   "cell_type": "code",
   "source": [
    "class AgentQueryState(BaseModel):\n",
    "    \"\"\"State representation for the agent's decision flow.\"\"\"\n",
    "\n",
    "    original_question: str = Field(default=None, description=\"User query.\")\n",
    "    paraphrased_question: str = Field(default=None, description=\"Rephrased user query.\")\n",
    "    final_response: str = Field(default=None, description=\"Answer to the query.\")\n",
    "    state_kwargs: Optional[Any] = Field(\n",
    "        default=None, description=\"Any kwargs to be added in response.\"\n",
    "    )"
   ],
   "id": "3dd0294685b24e3b",
   "outputs": [],
   "execution_count": 21
  },
  {
   "metadata": {
    "ExecuteTime": {
     "end_time": "2025-04-21T10:34:20.046051Z",
     "start_time": "2025-04-21T10:34:20.031951Z"
    }
   },
   "cell_type": "code",
   "source": [
    "class StateAttrStr(AgentQueryState):\n",
    "    # StateAttrStr().original_question -> \"original_question\"\n",
    "    def __getattribute__(self, item):\n",
    "        if item in AgentQueryState.model_fields:\n",
    "            return item\n",
    "        return super().__getattribute__(item)\n",
    "\n",
    "\n",
    "StateAttrStr().original_question"
   ],
   "id": "e276a39108fb03bc",
   "outputs": [
    {
     "data": {
      "text/plain": [
       "'original_question'"
      ]
     },
     "execution_count": 22,
     "metadata": {},
     "output_type": "execute_result"
    }
   ],
   "execution_count": 22
  },
  {
   "metadata": {
    "ExecuteTime": {
     "end_time": "2025-04-21T10:34:20.361887Z",
     "start_time": "2025-04-21T10:34:20.350124Z"
    }
   },
   "cell_type": "code",
   "source": [
    "StateAttrNames = Enum(\n",
    "    \"StateAttrNames\",\n",
    "    {name: name for name in AgentQueryState.model_fields},\n",
    "    type=str\n",
    ")\n",
    "\n",
    "\n",
    "StateAttrNames.final_response.value"
   ],
   "id": "f9ec03c4cf48fb59",
   "outputs": [
    {
     "data": {
      "text/plain": [
       "'final_response'"
      ]
     },
     "execution_count": 23,
     "metadata": {},
     "output_type": "execute_result"
    }
   ],
   "execution_count": 23
  },
  {
   "metadata": {
    "ExecuteTime": {
     "end_time": "2025-04-21T10:33:49.372202Z",
     "start_time": "2025-04-21T10:33:49.367725Z"
    }
   },
   "cell_type": "code",
   "source": "",
   "id": "379d57de7bfe2ef2",
   "outputs": [],
   "execution_count": null
  },
  {
   "metadata": {},
   "cell_type": "code",
   "outputs": [],
   "execution_count": null,
   "source": "",
   "id": "d83829da39fd61ef"
  }
 ],
 "metadata": {
  "kernelspec": {
   "display_name": "Python 3",
   "language": "python",
   "name": "python3"
  },
  "language_info": {
   "codemirror_mode": {
    "name": "ipython",
    "version": 2
   },
   "file_extension": ".py",
   "mimetype": "text/x-python",
   "name": "python",
   "nbconvert_exporter": "python",
   "pygments_lexer": "ipython2",
   "version": "2.7.6"
  }
 },
 "nbformat": 4,
 "nbformat_minor": 5
}
