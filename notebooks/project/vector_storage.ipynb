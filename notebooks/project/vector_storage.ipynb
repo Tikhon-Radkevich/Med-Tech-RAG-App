{
 "cells": [
  {
   "cell_type": "markdown",
   "id": "72dd8c3cb958a018",
   "metadata": {},
   "source": "## PDF to Docs Conversion"
  },
  {
   "cell_type": "markdown",
   "id": "2c07874b26b356bd",
   "metadata": {},
   "source": "### Setup"
  },
  {
   "cell_type": "code",
   "execution_count": 1,
   "id": "initial_id",
   "metadata": {
    "ExecuteTime": {
     "end_time": "2025-04-07T15:44:59.246437Z",
     "start_time": "2025-04-07T15:44:54.010795Z"
    },
    "collapsed": true
   },
   "outputs": [],
   "source": [
    "import os\n",
    "from typing import Any\n",
    "from pydantic import BaseModel\n",
    "from dotenv import load_dotenv\n",
    "from tqdm import tqdm\n",
    "\n",
    "from langchain_huggingface.embeddings import HuggingFaceEmbeddings\n",
    "from langchain_chroma import Chroma\n",
    "from langchain_community.document_loaders import PDFPlumberLoader\n",
    "from langchain_community.vectorstores.utils import filter_complex_metadata\n",
    "from langchain_docling.loader import ExportType\n",
    "from langchain_docling import DoclingLoader\n",
    "from langchain_docling.loader import MetaExtractor, BaseChunk\n",
    "from docling.chunking import HybridChunker\n",
    "from docling.datamodel.base_models import InputFormat\n",
    "from docling.document_converter import DocumentConverter, PdfFormatOption\n",
    "from docling.datamodel.pipeline_options import PdfPipelineOptions\n",
    "\n",
    "from ragapp.rag.med_agent_graph import MedTechAgent, DeviceEnum\n",
    "from constants import (\n",
    "    DATA_DIR,\n",
    "    LP_DOCLING_CACHE_DIR,\n",
    "    LP_PLUMBER_CACHE_DIR,\n",
    "    LP_DOCLING_COLLECTION_NAME,\n",
    "    LP_PLUMBER_COLLECTION_NAME,\n",
    "    LP_DEVICES,\n",
    "    EMBEDDINGS_MODEL_NAME,\n",
    "    TOGETHER_META_LLAMA_70B_FREE,\n",
    "    GROQ_GEMMA_9B,\n",
    ")"
   ]
  },
  {
   "cell_type": "code",
   "execution_count": 2,
   "id": "4ed0c5ecc5844a1c",
   "metadata": {
    "ExecuteTime": {
     "end_time": "2025-04-07T15:44:59.253816Z",
     "start_time": "2025-04-07T15:44:59.250251Z"
    }
   },
   "outputs": [],
   "source": [
    "load_dotenv()\n",
    "\n",
    "# https://github.com/huggingface/transformers/issues/5486:\n",
    "os.environ[\"TOKENIZERS_PARALLELISM\"] = \"false\""
   ]
  },
  {
   "cell_type": "code",
   "execution_count": 3,
   "id": "add7ec9e135bed62",
   "metadata": {
    "ExecuteTime": {
     "end_time": "2025-04-07T15:45:03.252514Z",
     "start_time": "2025-04-07T15:44:59.346362Z"
    }
   },
   "outputs": [],
   "source": [
    "embedding = HuggingFaceEmbeddings(model_name=EMBEDDINGS_MODEL_NAME)"
   ]
  },
  {
   "cell_type": "code",
   "execution_count": 4,
   "id": "3d83d702259b0cc",
   "metadata": {
    "ExecuteTime": {
     "end_time": "2025-04-07T15:45:03.275747Z",
     "start_time": "2025-04-07T15:45:03.264657Z"
    }
   },
   "outputs": [],
   "source": [
    "class PDFMetadata(BaseModel):\n",
    "    pdf_title: str\n",
    "    device: DeviceEnum\n",
    "\n",
    "\n",
    "file_path_to_metadata = dict()\n",
    "\n",
    "for pdf_data_dir in LP_DEVICES:\n",
    "    pdf_files_path = os.path.join(DATA_DIR, pdf_data_dir)\n",
    "\n",
    "    for pdf_file_name in os.listdir(pdf_files_path):\n",
    "        full_file_path = os.path.join(pdf_files_path, pdf_file_name)\n",
    "        file_path_to_metadata[full_file_path] = PDFMetadata(\n",
    "            pdf_title=pdf_file_name, device=pdf_data_dir.lower()\n",
    "        )"
   ]
  },
  {
   "cell_type": "markdown",
   "id": "ce6ee64313630a5c",
   "metadata": {},
   "source": "### Docling"
  },
  {
   "cell_type": "code",
   "execution_count": 5,
   "id": "49b5767512351a3d",
   "metadata": {
    "ExecuteTime": {
     "end_time": "2025-04-07T15:45:03.313464Z",
     "start_time": "2025-04-07T15:45:03.307587Z"
    }
   },
   "outputs": [],
   "source": [
    "class MedTechMetaExtractor(MetaExtractor):\n",
    "    def __init__(self, file_to_metadata: dict[str, PDFMetadata]):\n",
    "        super().__init__()\n",
    "        self.file_to_metadata = file_to_metadata\n",
    "\n",
    "    def extract_chunk_meta(self, file_path: str, chunk: BaseChunk) -> dict[str, Any]:\n",
    "        \"\"\"Extract chunk meta.\"\"\"\n",
    "        metadata = super().extract_chunk_meta(file_path, chunk)\n",
    "        pages = {\n",
    "            str(prov.page_no)\n",
    "            for doc_item in chunk.meta.doc_items\n",
    "            for prov in doc_item.prov\n",
    "        }\n",
    "        page = min(pages)  # todo: may be select all pages, not only first one.\n",
    "        my_metadata = self.file_to_metadata[file_path].model_dump()\n",
    "        metadata.update({\"page\": page})\n",
    "        metadata.update(my_metadata)\n",
    "        return metadata"
   ]
  },
  {
   "cell_type": "code",
   "execution_count": 6,
   "id": "b09bfe79456289ca",
   "metadata": {
    "ExecuteTime": {
     "end_time": "2025-04-07T15:45:03.549596Z",
     "start_time": "2025-04-07T15:45:03.364749Z"
    }
   },
   "outputs": [
    {
     "name": "stdout",
     "output_type": "stream",
     "text": [
      "Trying to load existing doc cache.\n",
      "Docling doc cache loaded.\n"
     ]
    }
   ],
   "source": [
    "if os.path.exists(LP_DOCLING_CACHE_DIR):\n",
    "    print(\"Trying to load existing doc cache.\")\n",
    "    docling_storage = Chroma(\n",
    "        collection_name=LP_DOCLING_COLLECTION_NAME,\n",
    "        embedding_function=embedding,\n",
    "        persist_directory=LP_DOCLING_CACHE_DIR,\n",
    "    )\n",
    "    print(\"Docling doc cache loaded.\")\n",
    "else:\n",
    "    print(\"Creating new doc cache.\")\n",
    "    pipeline_options = PdfPipelineOptions(do_ocr=False)\n",
    "    doc_converter = DocumentConverter(\n",
    "        format_options={\n",
    "            InputFormat.PDF: PdfFormatOption(pipeline_options=pipeline_options)\n",
    "        }\n",
    "    )\n",
    "    docling_loader = DoclingLoader(\n",
    "        file_path=file_path_to_metadata.keys(),\n",
    "        converter=doc_converter,\n",
    "        export_type=ExportType.DOC_CHUNKS,\n",
    "        chunker=HybridChunker(tokenizer=EMBEDDINGS_MODEL_NAME),\n",
    "        meta_extractor=MedTechMetaExtractor(file_path_to_metadata),\n",
    "    )\n",
    "    got_by_docling_documents = filter_complex_metadata(docling_loader.load())\n",
    "    print(\"Got docs! \\nStarting storage creating...\")\n",
    "    docling_storage = Chroma.from_documents(\n",
    "        documents=got_by_docling_documents,\n",
    "        embedding=embedding,\n",
    "        collection_name=LP_DOCLING_COLLECTION_NAME,\n",
    "        persist_directory=LP_DOCLING_CACHE_DIR,\n",
    "    )\n",
    "    print(\"Finished storage creating.\")"
   ]
  },
  {
   "cell_type": "markdown",
   "id": "eb6edaca2a69710b",
   "metadata": {},
   "source": "### PDFPlumber"
  },
  {
   "cell_type": "code",
   "execution_count": 7,
   "id": "de48cbc6524b9635",
   "metadata": {
    "ExecuteTime": {
     "end_time": "2025-04-07T15:45:03.565677Z",
     "start_time": "2025-04-07T15:45:03.557431Z"
    }
   },
   "outputs": [
    {
     "name": "stdout",
     "output_type": "stream",
     "text": [
      "Trying to load existing pipeline cache.\n",
      "Plumber doc cache loaded.\n"
     ]
    }
   ],
   "source": [
    "if os.path.exists(LP_PLUMBER_CACHE_DIR):\n",
    "    print(\"Trying to load existing pipeline cache.\")\n",
    "    plumber_storage = Chroma(\n",
    "        collection_name=LP_PLUMBER_COLLECTION_NAME,\n",
    "        embedding_function=embedding,\n",
    "        persist_directory=LP_PLUMBER_CACHE_DIR,\n",
    "    )\n",
    "    print(\"Plumber doc cache loaded.\")\n",
    "else:\n",
    "    print(\"Creating new pipeline cache.\")\n",
    "    got_by_plumber_documents = []\n",
    "\n",
    "    for pdf_file_path, pdf_metadata in tqdm(file_path_to_metadata.items()):\n",
    "        loader = PDFPlumberLoader(pdf_file_path)\n",
    "        for doc in loader.load():\n",
    "            doc.metadata.update(pdf_metadata.model_dump())\n",
    "            got_by_plumber_documents.append(doc)\n",
    "\n",
    "    print(\"Got docs! \\nStarting storage creating.\")\n",
    "    plumber_storage = Chroma.from_documents(\n",
    "        documents=got_by_plumber_documents,\n",
    "        embedding=embedding,\n",
    "        collection_name=LP_PLUMBER_COLLECTION_NAME,\n",
    "        persist_directory=LP_PLUMBER_CACHE_DIR,\n",
    "    )\n",
    "    print(\"Plumber doc cache loaded.\")"
   ]
  },
  {
   "cell_type": "markdown",
   "id": "b7a836ce4c8dd453",
   "metadata": {},
   "source": "### Test Searching"
  },
  {
   "cell_type": "code",
   "execution_count": 8,
   "id": "b35507062e111b9f",
   "metadata": {
    "ExecuteTime": {
     "end_time": "2025-04-07T15:45:03.840361Z",
     "start_time": "2025-04-07T15:45:03.657948Z"
    }
   },
   "outputs": [
    {
     "data": {
      "text/plain": [
       "{'device': 'lifepak 15',\n",
       " 'page': '226',\n",
       " 'pdf_title': 'Stryker_Physio_Control_LIFEPAK_15_Monitor_Defibrillator_3314911_036_202105.pdf',\n",
       " 'source': '/home/tikhon/PycharmProjects/RAGapp/data/LIFEPAK 15/Stryker_Physio_Control_LIFEPAK_15_Monitor_Defibrillator_3314911_036_202105.pdf'}"
      ]
     },
     "execution_count": 8,
     "metadata": {},
     "output_type": "execute_result"
    }
   ],
   "source": [
    "docling_storage.similarity_search(\n",
    "    \"How do I troubleshoot low volume on Lifepak 15?\",\n",
    "    k=2,\n",
    "    filter={\"device\": DeviceEnum.lifepak_15.value},\n",
    ")[0].metadata"
   ]
  },
  {
   "cell_type": "code",
   "execution_count": 10,
   "id": "6bdedbcff2572a60",
   "metadata": {
    "ExecuteTime": {
     "end_time": "2025-04-07T15:45:11.932476Z",
     "start_time": "2025-04-07T15:45:11.669478Z"
    }
   },
   "outputs": [],
   "source": [
    "med_agent = MedTechAgent(\n",
    "    vector_storage=plumber_storage,\n",
    "    rag_model_name=TOGETHER_META_LLAMA_70B_FREE,\n",
    "    device_model_name=GROQ_GEMMA_9B,\n",
    ")"
   ]
  },
  {
   "cell_type": "code",
   "execution_count": 11,
   "id": "f2c4821bc552fe5c",
   "metadata": {
    "ExecuteTime": {
     "end_time": "2025-04-07T15:45:17.502260Z",
     "start_time": "2025-04-07T15:45:13.388270Z"
    }
   },
   "outputs": [],
   "source": [
    "question = \"How do I troubleshoot low volume on LP 20?\"\n",
    "\n",
    "inputs = {\"question\": question, \"k\": 5}\n",
    "response = med_agent.run(**inputs)\n",
    "\n",
    "if response.retrieval_result is not None:\n",
    "    res = response.retrieval_result.answer\n",
    "else:\n",
    "    res = response.device_classification.reasoning"
   ]
  },
  {
   "cell_type": "code",
   "execution_count": 12,
   "id": "d8744037e72ab02e",
   "metadata": {
    "ExecuteTime": {
     "end_time": "2025-04-07T15:45:19.078764Z",
     "start_time": "2025-04-07T15:45:19.069728Z"
    }
   },
   "outputs": [
    {
     "data": {
      "text/plain": [
       "'To troubleshoot low volume on LP 20, you can try adjusting the pulse tone volume by highlighting and selecting SPO2 on the home screen, then selecting SPO2 VOLUME, and rotating the Speed Dial to the desired volume. Press the Speed Dial to set the volume.'"
      ]
     },
     "execution_count": 12,
     "metadata": {},
     "output_type": "execute_result"
    }
   ],
   "source": [
    "res"
   ]
  },
  {
   "cell_type": "code",
   "execution_count": 15,
   "id": "eb5ca57ba8dfa911",
   "metadata": {
    "ExecuteTime": {
     "end_time": "2025-04-07T15:48:35.974282Z",
     "start_time": "2025-04-07T15:48:35.970267Z"
    }
   },
   "outputs": [
    {
     "data": {
      "text/plain": [
       "[SourceDocument(title='Stryker_Physio_Control_Lifepak_20_Defibrillator_Monitor_3200750_039_201404_eq00.pdf', pages=[50])]"
      ]
     },
     "execution_count": 15,
     "metadata": {},
     "output_type": "execute_result"
    }
   ],
   "source": [
    "response.retrieval_result.sources"
   ]
  },
  {
   "cell_type": "code",
   "execution_count": null,
   "id": "8c7948284fe699c7",
   "metadata": {},
   "outputs": [],
   "source": []
  }
 ],
 "metadata": {
  "kernelspec": {
   "display_name": "Python 3",
   "language": "python",
   "name": "python3"
  },
  "language_info": {
   "codemirror_mode": {
    "name": "ipython",
    "version": 2
   },
   "file_extension": ".py",
   "mimetype": "text/x-python",
   "name": "python",
   "nbconvert_exporter": "python",
   "pygments_lexer": "ipython2",
   "version": "2.7.6"
  }
 },
 "nbformat": 4,
 "nbformat_minor": 5
}
